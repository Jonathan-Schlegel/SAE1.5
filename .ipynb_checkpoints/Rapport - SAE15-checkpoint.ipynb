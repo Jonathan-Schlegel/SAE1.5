{
 "cells": [
  {
   "cell_type": "markdown",
   "id": "44e9573e",
   "metadata": {},
   "source": [
    "# <u> Compte Rendu SAE 15 </u>"
   ]
  },
  {
   "cell_type": "markdown",
   "id": "b25226df",
   "metadata": {},
   "source": [
    "Ce rapport sera une brève présentation de notre équipe et des différentes tâches que nous avons réalisés.</br>\n",
    "Il sera complété par des explications et une argumentation sur les choix et solutions adoptés."
   ]
  },
  {
   "cell_type": "markdown",
   "id": "6f58d0af",
   "metadata": {},
   "source": [
    "<u>Sommaire :</u>\n",
    "<ul>\n",
    "    <li>Présentation de notre équipe et des travaux</li>\n",
    "    <li>Récupération des données</li>\n",
    "    <li>Stockage des élements</li>\n",
    "    <li>Traitement des données</li>\n",
    "    <li>Analyses et interprétations</li>\n",
    "    <li>Rédaction du site </li>\n",
    "</ul>"
   ]
  },
  {
   "cell_type": "markdown",
   "id": "c8ddbc04",
   "metadata": {},
   "source": [
    "## Notre équipe :\n",
    "Notre entreprise \"Expert analytics est composée de trois membres :\n",
    "* Jonathan\n",
    "* Arthur\n",
    "* Thibault\n",
    "\n",
    "Dès le début de cette SAE, nous nous sommes organisés et répartit les tâches. Voici grossièrement la répartition:\n",
    " * Arthur a pris en charge la partie analyse et interprétation des données\n",
    " * Thibault a pris du temps pour réaliser le compte-rendu ainsi que le site web\n",
    " * Jonathan le reste"
   ]
  },
  {
   "cell_type": "markdown",
   "id": "72478f53",
   "metadata": {},
   "source": [
    "## Partie 1: capture des données:"
   ]
  },
  {
   "cell_type": "markdown",
   "id": "9e00c2d9",
   "metadata": {},
   "source": [
    "Le but de cette partie consistait à récupérer les pages contenant les informations des parkings. Elles se situent sur le site web open date montpellier. Grâce à un module Python requests, nous pouvons avoir les pages telles quelles."
   ]
  },
  {
   "cell_type": "code",
   "execution_count": null,
   "id": "822f6f04",
   "metadata": {},
   "outputs": [],
   "source": [
    "import requests"
   ]
  },
  {
   "cell_type": "markdown",
   "id": "9919b00a",
   "metadata": {},
   "source": [
    "Dans le cas où l'on cherche des informations des parkings de voiture de Montpellier, il faudra utiliser ce lien avec\n",
    "la méthode get:"
   ]
  },
  {
   "cell_type": "code",
   "execution_count": null,
   "id": "a03aa901",
   "metadata": {},
   "outputs": [],
   "source": [
    "response=requests.get(f\"https://data.montpellier3m.fr/sites/default/files/ressources/{parking}.xml\")"
   ]
  },
  {
   "cell_type": "markdown",
   "id": "47ee430e",
   "metadata": {},
   "source": [
    "Bien sûr, dans le cas où l'on cherche des informations des stations vélo, le lien sera différent."
   ]
  },
  {
   "cell_type": "markdown",
   "id": "7026a31a",
   "metadata": {},
   "source": [
    "## Partie 2: Stockage des éléments:"
   ]
  },
  {
   "cell_type": "markdown",
   "id": "8b814b58",
   "metadata": {},
   "source": [
    "Après avoir acquis les pages, il faut parser celles-ci pour pouvoir, par la suite stocker les données voulues.\n",
    "Les modules lxml et json nous y aiderons. "
   ]
  },
  {
   "cell_type": "code",
   "execution_count": null,
   "id": "095d7211",
   "metadata": {},
   "outputs": [],
   "source": [
    "import json\n",
    "from lxml import etree"
   ]
  },
  {
   "cell_type": "code",
   "execution_count": null,
   "id": "7e00feb9",
   "metadata": {},
   "outputs": [],
   "source": []
  }
 ],
 "metadata": {
  "kernelspec": {
   "display_name": "Python 3 (ipykernel)",
   "language": "python",
   "name": "python3"
  },
  "language_info": {
   "codemirror_mode": {
    "name": "ipython",
    "version": 3
   },
   "file_extension": ".py",
   "mimetype": "text/x-python",
   "name": "python",
   "nbconvert_exporter": "python",
   "pygments_lexer": "ipython3",
   "version": "3.10.6"
  }
 },
 "nbformat": 4,
 "nbformat_minor": 5
}
