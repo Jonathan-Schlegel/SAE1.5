{
 "cells": [
  {
   "cell_type": "markdown",
   "id": "44e9573e",
   "metadata": {},
   "source": [
    "# <u> Compte Rendu SAE 15 </u>"
   ]
  },
  {
   "cell_type": "markdown",
   "id": "6f58d0af",
   "metadata": {},
   "source": [
    "<u>Sommaire :</u>\n",
    "<ul>\n",
    "    <li>Présentation de notre équipe</li>\n",
    "    <li>Comment faire la récupération des données?</li>\n",
    "    <li>Comment faire le traitement des données?</li>\n",
    "    <li>Comment faire l'analyses de ces dernières?</li>\n",
    "    <li>Rédaction du Site pour afficher les données</li>\n",
    "</ul>"
   ]
  },
  {
   "cell_type": "markdown",
   "id": "c8ddbc04",
   "metadata": {},
   "source": [
    "## <u>Notre équipe :</u>\n",
    "<p>Notre entreprise est composée de trois membres :</p>\n",
    "<ul>\n",
    "    <li>Jonathan</li>\n",
    "    <li>Arthur</li>\n",
    "    <li>Thibault</li>\n",
    "</ul>"
   ]
  },
  {
   "cell_type": "markdown",
   "id": "b25226df",
   "metadata": {},
   "source": [
    "<p>Ce rapport, sera une brève présentation de notre équipe, et des différentes tâches que nous avons réalisés.</p>"
   ]
  },
  {
   "cell_type": "markdown",
   "id": "dabf511a",
   "metadata": {},
   "source": [
    "<ul><b>Le rapport à été réalisé en plusieurs parties :</b>\n",
    "    <li> Les 3 membres de l'équipe, ont travaillés sur la capture des données.</li>\n",
    "    <li> Thibault, c'est occupé de réaliser le rapport sur NoteBook Jupyter.</li>\n",
    "    <li> Et nous avons analyser les données ensembles, afin que leur compréhension soit des plus efficaces.</li>\n",
    " </ul>"
   ]
  },
  {
   "cell_type": "markdown",
   "id": "195a109e",
   "metadata": {},
   "source": [
    "<u><b>Sommaire de nos différentes partie :</b></u>\n",
    "1) [Partie 1 : Capture des données][première]\n",
    "2) [Partie 2 : Analayse et traitement des données][seconde]\n",
    "\n",
    "\n",
    "[première]: #Partie-1-:\n",
    "[seconde]: #Partie-2-:"
   ]
  },
  {
   "cell_type": "markdown",
   "id": "c4b96fdb",
   "metadata": {},
   "source": [
    "<u>Partie 1 : Capture des données :</u>"
   ]
  },
  {
   "cell_type": "code",
   "execution_count": null,
   "id": "8926254a",
   "metadata": {},
   "outputs": [],
   "source": []
  }
 ],
 "metadata": {
  "kernelspec": {
   "display_name": "Python 3 (ipykernel)",
   "language": "python",
   "name": "python3"
  },
  "language_info": {
   "codemirror_mode": {
    "name": "ipython",
    "version": 3
   },
   "file_extension": ".py",
   "mimetype": "text/x-python",
   "name": "python",
   "nbconvert_exporter": "python",
   "pygments_lexer": "ipython3",
   "version": "3.9.13"
  }
 },
 "nbformat": 4,
 "nbformat_minor": 5
}
