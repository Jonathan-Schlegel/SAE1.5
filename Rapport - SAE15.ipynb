{
 "cells": [
  {
   "cell_type": "markdown",
   "id": "44e9573e",
   "metadata": {},
   "source": [
    "# <u> Compte Rendu SAE 15 </u>"
   ]
  },
  {
   "cell_type": "markdown",
   "id": "b25226df",
   "metadata": {},
   "source": [
    "Ce rapport sera une brève présentation de notre équipe et des différentes tâches que nous avons réalisés.</br>\n",
    "Il sera complété par des explications et une argumentation sur les choix et solutions adoptés."
   ]
  },
  {
   "cell_type": "markdown",
   "id": "6f58d0af",
   "metadata": {},
   "source": [
    "<u>Sommaire :</u>\n",
    "<ul>\n",
    "    <li>Présentation de notre équipe et des travaux</li>\n",
    "    <li>Récupération des données</li>\n",
    "    <li>Stockage des élements</li>\n",
    "    <li>Traitement, analyses et interprétations des valeurs</li>\n",
    "    <li>Rédaction du site </li>\n",
    "</ul>"
   ]
  },
  {
   "cell_type": "markdown",
   "id": "c8ddbc04",
   "metadata": {},
   "source": [
    "## Notre équipe :\n",
    "Notre entreprise \"Expert analytics est composée de trois membres :\n",
    "* Jonathan\n",
    "* Arthur\n",
    "* Thibault\n",
    "\n",
    "Dès le début de cette SAE, nous nous sommes organisés et répartit les tâches. Voici grossièrement la répartition:\n",
    " * Arthur a pris en charge la partie analyse et interprétation des données\n",
    " * Thibault a pris du temps pour réaliser le compte-rendu ainsi que le site web\n",
    " * Jonathan le reste"
   ]
  },
  {
   "cell_type": "markdown",
   "id": "57932004",
   "metadata": {},
   "source": [
    "## Partie 1: capture des données:"
   ]
  },
  {
   "cell_type": "markdown",
   "id": "165b5e21",
   "metadata": {},
   "source": [
    "Le but de cette partie consistait à récupérer les pages contenant les informations des parkings. Elles se situent sur le site web open date montpellier. Grâce à un module Python requests, nous pouvons avoir les pages telles quelles."
   ]
  },
  {
   "cell_type": "code",
   "execution_count": null,
   "id": "0460f54d",
   "metadata": {},
   "outputs": [],
   "source": [
    "import requests"
   ]
  },
  {
   "cell_type": "markdown",
   "id": "9919b00a",
   "metadata": {},
   "source": [
    "Si l'on cherche des informations des parkings de voiture de Montpellier, il faudra utiliser ce lien avec\n",
    "la méthode get:"
   ]
  },
  {
   "cell_type": "code",
   "execution_count": null,
   "id": "a03aa901",
   "metadata": {},
   "outputs": [],
   "source": [
    "response=requests.get(f\"https://data.montpellier3m.fr/sites/default/files/ressources/{parking}.xml\")"
   ]
  },
  {
   "cell_type": "markdown",
   "id": "47ee430e",
   "metadata": {},
   "source": [
    "Bien sûr, dans le cas où l'on recherche des informations à propos des stations vélo, le lien sera différent."
   ]
  },
  {
   "cell_type": "markdown",
   "id": "5713644b",
   "metadata": {},
   "source": [
    "Il sera par la suite plus simple d'enregistrer cela dans un fichier."
   ]
  },
  {
   "cell_type": "markdown",
   "id": "7026a31a",
   "metadata": {},
   "source": [
    "## Partie 2: Stockage des éléments:"
   ]
  },
  {
   "cell_type": "markdown",
   "id": "4e8283dd",
   "metadata": {},
   "source": [
    "### Parsage"
   ]
  },
  {
   "cell_type": "markdown",
   "id": "68b29a31",
   "metadata": {},
   "source": [
    "Après avoir obtenu les pages, il faut parser celles-ci pour pouvoir, par la suite, stocker les données voulues. \n",
    "C'est-à-dire que l'on va essayé d'obtenir les informations intéressantes comme le nombre de places libres, de place total etc \n",
    "Les modules lxml et json nous y aiderons. "
   ]
  },
  {
   "cell_type": "code",
   "execution_count": null,
   "id": "095d7211",
   "metadata": {},
   "outputs": [],
   "source": [
    "import json\n",
    "from lxml import etree"
   ]
  },
  {
   "cell_type": "markdown",
   "id": "1e007241",
   "metadata": {},
   "source": [
    "Pourquoi deux modules ? Les données en libre accès des parkings voitures sont des fichiers téléchargeables xml\n",
    "tandis que les parkings vélo sont structurés en json.\n",
    "Pour obtenir les informations en xml:"
   ]
  },
  {
   "cell_type": "code",
   "execution_count": null,
   "id": "63da9c85",
   "metadata": {},
   "outputs": [],
   "source": [
    "for user in tree.xpath(data):"
   ]
  },
  {
   "cell_type": "markdown",
   "id": "9c335c24",
   "metadata": {},
   "source": [
    "data étant le nom de la balise encadrant la donnée dans le fichier."
   ]
  },
  {
   "cell_type": "markdown",
   "id": "1f1b45c7",
   "metadata": {},
   "source": [
    "Dans le cas d'un fichier json, son module va le transformer en un embriquement de séquence(dictionnaire et liste).\n",
    "Le code qui suit permet de le faire:"
   ]
  },
  {
   "cell_type": "code",
   "execution_count": null,
   "id": "10d9275e",
   "metadata": {},
   "outputs": [],
   "source": [
    "data=json.loads(response.text)"
   ]
  },
  {
   "cell_type": "markdown",
   "id": "b805a453",
   "metadata": {},
   "source": [
    "On retiendra la valeur en cherchant dans cet embriquement:"
   ]
  },
  {
   "cell_type": "code",
   "execution_count": null,
   "id": "263791fc",
   "metadata": {},
   "outputs": [],
   "source": [
    "veloLibre=data[\"data\"][\"stations\"][x][\"num_bikes_available\"]"
   ]
  },
  {
   "cell_type": "markdown",
   "id": "232a0c08",
   "metadata": {},
   "source": [
    "D'ailleurs, quelles valeurs faut-il récoltées ? Nous récupérerons le nombre de place libre, les places totales ainsi que le temps. Dans le programme principale, nous uniformisons le temps d'une capture à tous les parkings pour avoir un tracé plus lisible graphiquemnet. Pour les vélos, il suffit de connaître les vélos empruntées et stationné. Dans ces deux cas, ces données nous permettent dans déduire d'autre qui nous seront utiles par la suite."
   ]
  },
  {
   "cell_type": "markdown",
   "id": "5314cf2a",
   "metadata": {},
   "source": [
    "### Stockage"
   ]
  },
  {
   "cell_type": "markdown",
   "id": "20a7bcf6",
   "metadata": {},
   "source": [
    "A cet instant, il nous a fallut réfléchir à la méthode d'écriture des fichiers, leurs noms ainsi que leurs hiérarchies pour facilité l'algorithmie du programme et l'exploitation des valeurs. Notre premier choix est de créer un fichier par parking voiture et un seul pour les stations vélos. Nous écrivons une liste de valeur au format csv sur une ligne ou bien une liste de liste pour les deux roues. L'adoption d'un tel format est justifier par sa simplicité par rapport à d'autre solution. Comme une image vaut 1000 mots, ces justifications sont plus appréciables\n",
    "en analysant notre référentiel Github."
   ]
  },
  {
   "cell_type": "markdown",
   "id": "5665c9b6",
   "metadata": {},
   "source": [
    "## Partie 3: Traitement, analyse et interprétations des valeurs"
   ]
  },
  {
   "cell_type": "markdown",
   "id": "444e27e9",
   "metadata": {},
   "source": [
    "La suite du compte-rendu peut semble incohérent avec ce qui a été prédécemment décrit. Effectivement, nous avons eu\n",
    "de nombreux problèmes dans la capture des informations. C'est pourquoi, il fallut utilisé un jeu de donnée différent\n",
    "de ce qu'il devait être. Le groupe de Camille et Marouane nous a gracieusement donné le leur. Notre Github aussi a \n",
    "changé. Par ailleurs, notre analyse sera certainement moins pertinente mais quand même intéressante car la plage de récolte se situe entre 7 heures et 22 heures."
   ]
  },
  {
   "cell_type": "markdown",
   "id": "a79a2949",
   "metadata": {},
   "source": [
    "### Traitement"
   ]
  },
  {
   "cell_type": "markdown",
   "id": "55ae1124",
   "metadata": {},
   "source": [
    "Il faut à présent récupérer les données (heures et pourcentages) des fichiers:"
   ]
  },
  {
   "cell_type": "code",
   "execution_count": 2,
   "id": "108b2e19",
   "metadata": {},
   "outputs": [],
   "source": [
    "def lectureDonneeVelo(parking):\n",
    "    listeTemps=[]\n",
    "    listePourcentage=[]\n",
    "    with open(f\"data/txt_file/velo/{parking}_time_occupation.txt\") as fichier:\n",
    "        lecture=fichier.readlines()\n",
    "        for ligne in lecture:\n",
    "            ligne=ligne.split()    \n",
    "            listeTemps.append(ligne[1])\n",
    "            listePourcentage.append(float(ligne[2]))\n",
    "        fichier.close()\n",
    "    return listeTemps,listePourcentage"
   ]
  },
  {
   "cell_type": "code",
   "execution_count": null,
   "id": "5192d8cc",
   "metadata": {},
   "outputs": [],
   "source": [
    "def lectureDonneeVoiture(parking):\n",
    "    listeTemps=[]\n",
    "    listePourcentage=[]\n",
    "    with open(f\"data/txt_file/voiture/{parking}_time_occupation.txt\") as fichier:\n",
    "        lecture=fichier.readlines()\n",
    "        for ligne in lecture:\n",
    "            ligne=ligne.split()    \n",
    "            listeTemps.append(ligne[1])\n",
    "            listePourcentage.append(float(ligne[2]))\n",
    "        fichier.close()\n",
    "    return listeTemps,listePourcentage"
   ]
  },
  {
   "cell_type": "markdown",
   "id": "17d5e6d3",
   "metadata": {},
   "source": [
    "### Analyse et interprétation"
   ]
  },
  {
   "cell_type": "markdown",
   "id": "7deaef24",
   "metadata": {},
   "source": [
    "#### Moyenne"
   ]
  },
  {
   "cell_type": "markdown",
   "id": "c04b7010",
   "metadata": {},
   "source": [
    "Moyenne des moyennes des parkings voitures:"
   ]
  },
  {
   "cell_type": "code",
   "execution_count": null,
   "id": "d9297acf",
   "metadata": {},
   "outputs": [],
   "source": [
    "[56.43305439330544, 22.48062015503876, 37.01704545454545, 70.21237352445193, 19.841008771929825, 31.588421658986174,\n",
    " 48.93292682926829, 31.576118119266056, 18.993055555555557, 60.42110306643952, 48.75, 71.54924911660777,\n",
    " 69.62025316455697, 84.72108843537416, 6.206896551724138, 74.12397216951297, 70.75937644698256, 90.8256880733945,\n",
    " 86.4, 94.12955465587045, 87.22436171730138, 52.185408576386024]"
   ]
  },
  {
   "cell_type": "code",
   "execution_count": null,
   "id": "30a37fe9",
   "metadata": {},
   "outputs": [],
   "source": [
    "Ce qui donne:"
   ]
  },
  {
   "cell_type": "code",
   "execution_count": null,
   "id": "0a1e2bd8",
   "metadata": {},
   "outputs": [],
   "source": [
    "56.090526201658996"
   ]
  },
  {
   "cell_type": "markdown",
   "id": "1c6c87d1",
   "metadata": {
    "collapsed": true
   },
   "source": [
    "Minimum et maximum parmi les moyennes:"
   ]
  },
  {
   "cell_type": "code",
   "execution_count": null,
   "id": "0f205efe",
   "metadata": {},
   "outputs": [],
   "source": [
    "6.206896551724138\n",
    "94.12955465587045"
   ]
  },
  {
   "cell_type": "code",
   "execution_count": null,
   "id": "afdcee1a",
   "metadata": {},
   "outputs": [],
   "source": [
    "La moyenne des moyennes nous indique que les parkings "
   ]
  }
 ],
 "metadata": {
  "kernelspec": {
   "display_name": "Python 3 (ipykernel)",
   "language": "python",
   "name": "python3"
  },
  "language_info": {
   "codemirror_mode": {
    "name": "ipython",
    "version": 3
   },
   "file_extension": ".py",
   "mimetype": "text/x-python",
   "name": "python",
   "nbconvert_exporter": "python",
   "pygments_lexer": "ipython3",
   "version": "3.10.6"
  }
 },
 "nbformat": 4,
 "nbformat_minor": 5
}
